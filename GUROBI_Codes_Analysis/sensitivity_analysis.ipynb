{
 "cells": [
  {
   "cell_type": "code",
   "execution_count": 1,
   "metadata": {
    "collapsed": true
   },
   "outputs": [],
   "source": [
    "from gurobipy import *\n",
    "import matplotlib.pyplot as plt\n",
    "%matplotlib inline"
   ]
  },
  {
   "cell_type": "markdown",
   "metadata": {},
   "source": [
    "## 模型导入与求解"
   ]
  },
  {
   "cell_type": "code",
   "execution_count": 2,
   "metadata": {
    "collapsed": false
   },
   "outputs": [
    {
     "name": "stdout",
     "output_type": "stream",
     "text": [
      "Optimize a model with 9 rows, 25 columns and 45 nonzeros\n",
      "Variable types: 20 continuous, 5 integer (5 binary)\n",
      "Coefficient statistics:\n",
      "  Matrix range     [1e+00, 2e+01]\n",
      "  Objective range  [1e+03, 2e+04]\n",
      "  Bounds range     [1e+00, 1e+00]\n",
      "  RHS range        [1e+01, 2e+01]\n",
      "Presolve time: 0.00s\n",
      "Presolved: 9 rows, 25 columns, 45 nonzeros\n",
      "Variable types: 20 continuous, 5 integer (5 binary)\n",
      "\n",
      "Root relaxation: objective 1.998333e+05, 11 iterations, 0.00 seconds\n",
      "\n",
      "    Nodes    |    Current Node    |     Objective Bounds      |     Work\n",
      " Expl Unexpl |  Obj  Depth IntInf | Incumbent    BestBd   Gap | It/Node Time\n",
      "\n",
      "     0     0 199833.333    0    1          - 199833.333      -     -    0s\n",
      "H    0     0                    210500.00000 199833.333  5.07%     -    0s\n",
      "     0     0 210252.941    0    2 210500.000 210252.941  0.12%     -    0s\n",
      "\n",
      "Cutting planes:\n",
      "  Gomory: 1\n",
      "\n",
      "Explored 0 nodes (13 simplex iterations) in 0.05 seconds\n",
      "Thread count was 4 (of 4 available processors)\n",
      "\n",
      "Solution count 1: 210500 \n",
      "Pool objective bound 210500\n",
      "\n",
      "Optimal solution found (tolerance 1.00e-04)\n",
      "Best objective 2.105000000000e+05, best bound 2.105000000000e+05, gap 0.0000%\n"
     ]
    }
   ],
   "source": [
    "model = read('facility_p1.lp')\n",
    "model.optimize()"
   ]
  },
  {
   "cell_type": "markdown",
   "metadata": {},
   "source": [
    "## 结果与变量记录"
   ]
  },
  {
   "cell_type": "code",
   "execution_count": 3,
   "metadata": {
    "collapsed": false
   },
   "outputs": [
    {
     "name": "stdout",
     "output_type": "stream",
     "text": [
      "模型最优解，最低成本为：210500\n"
     ]
    }
   ],
   "source": [
    "origObjVal = model.ObjVal\n",
    "print '模型最优解，最低成本为：%d' % origObjVal"
   ]
  },
  {
   "cell_type": "markdown",
   "metadata": {},
   "source": [
    "* facility_problem实例中，plant的个数为5，故这里的循环采用range(5)\n",
    "* GUROBI中的Var对象与结构体类似，因此可直接通过.+name获取信息，也可随时针对变量存储一些临时信息，自定义信息一般在name前加下划线，这里通过'_origX'存储origin model中open的最优值"
   ]
  },
  {
   "cell_type": "code",
   "execution_count": 4,
   "metadata": {
    "collapsed": false
   },
   "outputs": [
    {
     "name": "stdout",
     "output_type": "stream",
     "text": [
      "原模型的最优值：\n",
      "plant-0:1   plant-1:1   plant-2:0   plant-3:1   plant-4:1  \n"
     ]
    }
   ],
   "source": [
    "open = dict()\n",
    "print '原模型的最优值：'\n",
    "for plant in range(5):\n",
    "    open[plant] = model.getVarByName('open[%d]' % plant)\n",
    "    open[plant]._origX = open[plant].X\n",
    "    print 'plant-%d:%d  ' % (plant, open[plant]._origX),"
   ]
  },
  {
   "cell_type": "markdown",
   "metadata": {},
   "source": [
    "# 分析过程\n",
    "* 将原始模型最优解中open的值修改，观察最优值（总成本的变化）\n",
    "* 因open为0-1变量，故修改操作为(1-open.origin_value)"
   ]
  },
  {
   "cell_type": "markdown",
   "metadata": {},
   "source": [
    "* 关闭GUROBI的输出，GUROBI运行文件时，会将所有信息保存到gurobi.log文件中（默认保存路径为当前文件），可自行去查看"
   ]
  },
  {
   "cell_type": "code",
   "execution_count": 5,
   "metadata": {
    "collapsed": false
   },
   "outputs": [],
   "source": [
    "model.setParam('OutputFlag', 0)"
   ]
  },
  {
   "cell_type": "markdown",
   "metadata": {},
   "source": [
    "* GUROBI对变量参数的改变具有滞后性，即改变的生效是在下一次调用model.optimize()或者model.update()\n",
    "* 每次分析完open对目标的灵敏度后，切记还原改变，否则下次改变其他open[plant]参数时，上次改变也会保留，达不到控制变量的效果"
   ]
  },
  {
   "cell_type": "code",
   "execution_count": 6,
   "metadata": {
    "collapsed": false
   },
   "outputs": [
    {
     "name": "stdout",
     "output_type": "stream",
     "text": [
      "将plant-0的值从1变为0后，模型最优解为：238400，目标灵敏度为：27900\n",
      "将plant-1的值从1变为0后，模型最优解为：229600，目标灵敏度为：19100\n",
      "将plant-2的值从0变为1后，模型最优解为：210900，目标灵敏度为：400\n",
      "将plant-3的值从1变为0后，模型最优解为：219800，目标灵敏度为：9300\n",
      "将plant-4的值从1变为0后，模型最优解为：210900，目标灵敏度为：400\n"
     ]
    }
   ],
   "source": [
    "sensitivities = []\n",
    "for plant in range(5):\n",
    "    if(open[plant]._origX < 0.5):\n",
    "        open[plant].LB = open[plant].start = 1\n",
    "    else:\n",
    "        open[plant].UB = open[plant].start = 0\n",
    "        \n",
    "    for plant_temp in range(5):\n",
    "        if(plant == plant_temp):\n",
    "            continue\n",
    "        open[plant_temp].start = open[plant_temp]._origX\n",
    "    \n",
    "    # 开始优化\n",
    "    model.optimize()\n",
    "    print '将plant-%d的值从%d变为%d后，模型最优解为：%d，目标灵敏度为：%d' % \\\n",
    "            (plant, open[plant]._origX, (1 - open[plant]._origX), model.ObjVal, (model.ObjVal - origObjVal))\n",
    "    sensitivities.append(model.ObjVal - origObjVal)\n",
    "    \n",
    "    # 还原对变量的改变\n",
    "    open[plant].LB = 0\n",
    "    open[plant].UB = 1"
   ]
  },
  {
   "cell_type": "markdown",
   "metadata": {},
   "source": [
    "# 结果展示"
   ]
  },
  {
   "cell_type": "code",
   "execution_count": 7,
   "metadata": {
    "collapsed": false
   },
   "outputs": [
    {
     "name": "stdout",
     "output_type": "stream",
     "text": [
      "对目标的灵敏度最低的plant：[2, 4]\n"
     ]
    }
   ],
   "source": [
    "plants_temp = [i for i, v in enumerate(sensitivities) if v == min(sensitivities)]\n",
    "print '对目标的灵敏度最低的plant：%s' % plants_temp"
   ]
  },
  {
   "cell_type": "code",
   "execution_count": 8,
   "metadata": {
    "collapsed": false
   },
   "outputs": [
    {
     "data": {
      "text/plain": [
       "<matplotlib.collections.PathCollection at 0x9a85a20>"
      ]
     },
     "execution_count": 8,
     "metadata": {},
     "output_type": "execute_result"
    },
    {
     "data": {
      "image/png": "[encoded data removed]",
      "text/plain": [
       "<matplotlib.figure.Figure at 0x681f080>"
      ]
     },
     "metadata": {},
     "output_type": "display_data"
    }
   ],
   "source": [
    "plt.scatter(range(5) ,sensitivities)"
   ]
  }
 ],
 "metadata": {
  "kernelspec": {
   "display_name": "Python 2",
   "language": "python",
   "name": "python2"
  },
  "language_info": {
   "codemirror_mode": {
    "name": "ipython",
    "version": 2
   },
   "file_extension": ".py",
   "mimetype": "text/x-python",
   "name": "python",
   "nbconvert_exporter": "python",
   "pygments_lexer": "ipython2",
   "version": "2.7.13"
  }
 },
 "nbformat": 4,
 "nbformat_minor": 2
}
