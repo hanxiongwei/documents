{
 "cells": [
  {
   "cell_type": "code",
   "execution_count": 1,
   "metadata": {
    "collapsed": false
   },
   "outputs": [],
   "source": [
    "from gurobipy import *\n",
    "import pandas as pd\n",
    "import random"
   ]
  },
  {
   "cell_type": "markdown",
   "metadata": {},
   "source": [
    "# 数据导入"
   ]
  },
  {
   "cell_type": "markdown",
   "metadata": {},
   "source": [
    "### 模型基础数据导入\n",
    "* demand: 四个需求点，demand中保存每个需求点的需求量\n",
    "* capacity: 五个可选供应点，capacity中保存每个供应点的最大供给量\n",
    "* fixedCosts：供应点的固定成本（供应点一旦有配货，就会产生固定成本）\n",
    "* transCosts: 供应点到需求点的单位运输成本"
   ]
  },
  {
   "cell_type": "code",
   "execution_count": 2,
   "metadata": {
    "collapsed": true
   },
   "outputs": [],
   "source": [
    "demand = [15, 18, 14, 20]\n",
    "capacity = [20, 22, 17, 19, 18]\n",
    "fixedCosts = [12000, 15000, 17000, 13000, 16000]\n",
    "transCosts = [[4000, 2000, 3000, 2500, 4500],\n",
    "              [2500, 2600, 3400, 3000, 4000],\n",
    "              [1200, 1800, 2600, 4100, 3000],\n",
    "              [2200, 2600, 3100, 3700, 3200]]"
   ]
  },
  {
   "cell_type": "markdown",
   "metadata": {},
   "source": [
    "### 为供应点与需求点建立编号，方便gurobi用向量化函数建立模型"
   ]
  },
  {
   "cell_type": "code",
   "execution_count": 3,
   "metadata": {
    "collapsed": true
   },
   "outputs": [],
   "source": [
    "plants = range(len(capacity))\n",
    "warehouses = range(len(demand))"
   ]
  },
  {
   "cell_type": "markdown",
   "metadata": {},
   "source": [
    "# P1：不考虑强行关闭某个供给点，让模型在求解的过程中自己选择每个供给点的开 / 关"
   ]
  },
  {
   "cell_type": "markdown",
   "metadata": {},
   "source": [
    "* modelSense控制模型目标的优化方向（最大 / 最小），分别对应GRB.MAXIMIZE / MAXGRB.MINIMIZE，问题中目标是最小化成本，故选后者"
   ]
  },
  {
   "cell_type": "code",
   "execution_count": 4,
   "metadata": {
    "collapsed": false
   },
   "outputs": [],
   "source": [
    "m1 = Model(\"facility_p1\")\n",
    "m1.modelSense = GRB.MINIMIZE"
   ]
  },
  {
   "cell_type": "markdown",
   "metadata": {},
   "source": [
    "### 决策变量"
   ]
  },
  {
   "cell_type": "markdown",
   "metadata": {},
   "source": [
    "* open：open[p] == 1 if plant p is open.\n",
    "* 函数解释：addVars(*indexes, lb=0.0, ub=GRB.INFINITY, obj=0.0, vtype=GRB.CONTINUOUS, name=\"\")，变量类型被指定为BINARY，则lb与ub自动设置为0与1；另一种构建0-1变量的实现方式为：lb=0.0, ub=1.0, vtype=GRB.INTEGER\n",
    "* addVars()返回的类型为tupledict(Gurobi tuple dict)，为GUROBI扩展的dict类，具有select() / sum()等方法，参数送入*表示针对某一维度的所有值"
   ]
  },
  {
   "cell_type": "code",
   "execution_count": 5,
   "metadata": {
    "collapsed": true
   },
   "outputs": [],
   "source": [
    "open = m1.addVars(plants, vtype=GRB.BINARY, obj=fixedCosts, name=\"open\")"
   ]
  },
  {
   "cell_type": "markdown",
   "metadata": {},
   "source": [
    "* transport：供给点配送到需求点的量，为不小于0的实数\n",
    "* addVars中，前几个参数都默认为变量的下标，如add(m, n, ...），gurobi会构建一个m * n的决策变量矩阵，m与n的类型为integer / list；若设置了obj，则前面的矩阵各维度值要与obj匹配；addVars()中默认添加的变量为lb=0，ub=无穷大，类型为CONTINUOUS，所以这里不需要特别指定（建议都写一遍）"
   ]
  },
  {
   "cell_type": "code",
   "execution_count": 6,
   "metadata": {
    "collapsed": false
   },
   "outputs": [],
   "source": [
    "transport = m1.addVars(warehouses, plants, obj=transCosts, name=\"trans\")"
   ]
  },
  {
   "cell_type": "markdown",
   "metadata": {},
   "source": [
    "### 模型约束"
   ]
  },
  {
   "cell_type": "markdown",
   "metadata": {},
   "source": [
    "* 供给点的总配送量不能超过其能力上限"
   ]
  },
  {
   "cell_type": "code",
   "execution_count": 7,
   "metadata": {
    "collapsed": false
   },
   "outputs": [
    {
     "data": {
      "text/plain": [
       "{0: <gurobi.Constr *Awaiting Model Update*>,\n",
       " 1: <gurobi.Constr *Awaiting Model Update*>,\n",
       " 2: <gurobi.Constr *Awaiting Model Update*>,\n",
       " 3: <gurobi.Constr *Awaiting Model Update*>,\n",
       " 4: <gurobi.Constr *Awaiting Model Update*>}"
      ]
     },
     "execution_count": 7,
     "metadata": {},
     "output_type": "execute_result"
    }
   ],
   "source": [
    "m1.addConstrs((transport.sum('*',p) <= capacity[p] * open[p] for p in plants), \"Capacity\")"
   ]
  },
  {
   "cell_type": "markdown",
   "metadata": {},
   "source": [
    "* 需求点的总接收量要满足其需求"
   ]
  },
  {
   "cell_type": "code",
   "execution_count": 8,
   "metadata": {
    "collapsed": false
   },
   "outputs": [
    {
     "data": {
      "text/plain": [
       "{0: <gurobi.Constr *Awaiting Model Update*>,\n",
       " 1: <gurobi.Constr *Awaiting Model Update*>,\n",
       " 2: <gurobi.Constr *Awaiting Model Update*>,\n",
       " 3: <gurobi.Constr *Awaiting Model Update*>}"
      ]
     },
     "execution_count": 8,
     "metadata": {},
     "output_type": "execute_result"
    }
   ],
   "source": [
    "m1.addConstrs((transport.sum(w) >= demand[w] for w in warehouses), \"Demand\")"
   ]
  },
  {
   "cell_type": "markdown",
   "metadata": {},
   "source": [
    "### 模型求解"
   ]
  },
  {
   "cell_type": "code",
   "execution_count": 9,
   "metadata": {
    "collapsed": false
   },
   "outputs": [
    {
     "name": "stdout",
     "output_type": "stream",
     "text": [
      "Optimize a model with 9 rows, 25 columns and 45 nonzeros\n",
      "Variable types: 20 continuous, 5 integer (5 binary)\n",
      "Coefficient statistics:\n",
      "  Matrix range     [1e+00, 2e+01]\n",
      "  Objective range  [1e+03, 2e+04]\n",
      "  Bounds range     [1e+00, 1e+00]\n",
      "  RHS range        [1e+01, 2e+01]\n",
      "Presolve time: 0.00s\n",
      "Presolved: 9 rows, 25 columns, 45 nonzeros\n",
      "Variable types: 20 continuous, 5 integer (5 binary)\n",
      "\n",
      "Root relaxation: objective 1.998333e+05, 11 iterations, 0.00 seconds\n",
      "\n",
      "    Nodes    |    Current Node    |     Objective Bounds      |     Work\n",
      " Expl Unexpl |  Obj  Depth IntInf | Incumbent    BestBd   Gap | It/Node Time\n",
      "\n",
      "     0     0 199833.333    0    1          - 199833.333      -     -    0s\n",
      "H    0     0                    210500.00000 199833.333  5.07%     -    0s\n",
      "     0     0 210252.941    0    2 210500.000 210252.941  0.12%     -    0s\n",
      "\n",
      "Cutting planes:\n",
      "  Gomory: 1\n",
      "\n",
      "Explored 0 nodes (13 simplex iterations) in 0.06 seconds\n",
      "Thread count was 4 (of 4 available processors)\n",
      "\n",
      "Solution count 1: 210500 \n",
      "Pool objective bound 210500\n",
      "\n",
      "Optimal solution found (tolerance 1.00e-04)\n",
      "Best objective 2.105000000000e+05, best bound 2.105000000000e+05, gap 0.0000%\n",
      "Wall time: 73 ms\n"
     ]
    }
   ],
   "source": [
    "try:\n",
    "    m1.write('facility_p1.lp')\n",
    "    %time m1.optimize()\n",
    "except GurobiError as e:\n",
    "    print('Error code' + str(e.errno) + ': ' + str(e))\n",
    "except AttributeError as e:\n",
    "    print('Encountered an attribute error: ' + str(e))"
   ]
  },
  {
   "cell_type": "markdown",
   "metadata": {},
   "source": [
    "### 结果展示"
   ]
  },
  {
   "cell_type": "code",
   "execution_count": 10,
   "metadata": {
    "collapsed": false
   },
   "outputs": [
    {
     "name": "stdout",
     "output_type": "stream",
     "text": [
      "总成本：210500\n"
     ]
    },
    {
     "data": {
      "text/html": [
       "<div>\n",
       "<table border=\"1\" class=\"dataframe\">\n",
       "  <thead>\n",
       "    <tr style=\"text-align: right;\">\n",
       "      <th></th>\n",
       "      <th>0</th>\n",
       "      <th>1</th>\n",
       "      <th>2</th>\n",
       "      <th>3</th>\n",
       "      <th>state</th>\n",
       "    </tr>\n",
       "  </thead>\n",
       "  <tbody>\n",
       "    <tr>\n",
       "      <th>0</th>\n",
       "      <td>0.0</td>\n",
       "      <td>0.0</td>\n",
       "      <td>14.0</td>\n",
       "      <td>6.0</td>\n",
       "      <td>Open</td>\n",
       "    </tr>\n",
       "    <tr>\n",
       "      <th>1</th>\n",
       "      <td>14.0</td>\n",
       "      <td>0.0</td>\n",
       "      <td>0.0</td>\n",
       "      <td>8.0</td>\n",
       "      <td>Open</td>\n",
       "    </tr>\n",
       "    <tr>\n",
       "      <th>2</th>\n",
       "      <td>0.0</td>\n",
       "      <td>0.0</td>\n",
       "      <td>0.0</td>\n",
       "      <td>0.0</td>\n",
       "      <td>Closed</td>\n",
       "    </tr>\n",
       "    <tr>\n",
       "      <th>3</th>\n",
       "      <td>1.0</td>\n",
       "      <td>18.0</td>\n",
       "      <td>0.0</td>\n",
       "      <td>0.0</td>\n",
       "      <td>Open</td>\n",
       "    </tr>\n",
       "    <tr>\n",
       "      <th>4</th>\n",
       "      <td>0.0</td>\n",
       "      <td>0.0</td>\n",
       "      <td>0.0</td>\n",
       "      <td>6.0</td>\n",
       "      <td>Open</td>\n",
       "    </tr>\n",
       "  </tbody>\n",
       "</table>\n",
       "</div>"
      ],
      "text/plain": [
       "      0     1     2    3   state\n",
       "0   0.0   0.0  14.0  6.0    Open\n",
       "1  14.0   0.0   0.0  8.0    Open\n",
       "2   0.0   0.0   0.0  0.0  Closed\n",
       "3   1.0  18.0   0.0  0.0    Open\n",
       "4   0.0   0.0   0.0  6.0    Open"
      ]
     },
     "execution_count": 10,
     "metadata": {},
     "output_type": "execute_result"
    }
   ],
   "source": [
    "print '总成本：%d' % m1.objVal\n",
    "result = []\n",
    "for p in plants:\n",
    "    line_temp = []\n",
    "    for w in warehouses:\n",
    "        line_temp.append(transport[w,p].x)\n",
    "    if(open[p].x > 0.5):\n",
    "        line_temp.append('Open')\n",
    "    else:\n",
    "        line_temp.append('Closed')\n",
    "    result.append(line_temp)\n",
    "df = pd.DataFrame(result, index=plants, columns=warehouses + ['state'])\n",
    "df"
   ]
  },
  {
   "cell_type": "markdown",
   "metadata": {},
   "source": [
    "# P2：为模型送入初始值，关闭固定成本最高的供应点，求解此时最优的调度方案\n",
    "* 无任何初始值设定时，问题的最优解中plant-2被关闭了，为使得效果更加直观，程序中设定固定成本最低的plant-0被关闭，求得的最优解显示结果与P1不变。\n",
    "* 原因：送入初始解（或初始解的一部分），GUROBI会根据其构建一个可行解（前提是比内带的heuristic求得的初始解好），该可行解作为分支定界算法中的初始BOUND，可提高分支定界中的求解效率"
   ]
  },
  {
   "cell_type": "markdown",
   "metadata": {},
   "source": [
    "* 为model设置参数的方式：m2.Params.method = 2 / m2.setParam('Method', 2)"
   ]
  },
  {
   "cell_type": "code",
   "execution_count": 11,
   "metadata": {
    "collapsed": false
   },
   "outputs": [],
   "source": [
    "m2 = Model(\"facility_p2\")\n",
    "m2.modelSense = GRB.MINIMIZE\n",
    "# m2.Params.method = 2\n",
    "# m2.setParam('Method', 2)"
   ]
  },
  {
   "cell_type": "markdown",
   "metadata": {
    "collapsed": true
   },
   "source": [
    "### 决策变量"
   ]
  },
  {
   "cell_type": "code",
   "execution_count": 12,
   "metadata": {
    "collapsed": true
   },
   "outputs": [],
   "source": [
    "open = m2.addVars(plants, vtype=GRB.BINARY, obj=fixedCosts, name=\"open\")\n",
    "transport = m2.addVars(warehouses, plants, obj=transCosts, name=\"trans\")"
   ]
  },
  {
   "cell_type": "markdown",
   "metadata": {},
   "source": [
    "### 模型约束\n",
    "* tupledict.sum()对所有value求和，tupledict.sum(i)等价于tupledict.sum(i, '*')，表示对第i行的value求和"
   ]
  },
  {
   "cell_type": "code",
   "execution_count": 13,
   "metadata": {
    "collapsed": false
   },
   "outputs": [
    {
     "data": {
      "text/plain": [
       "{0: <gurobi.Constr *Awaiting Model Update*>,\n",
       " 1: <gurobi.Constr *Awaiting Model Update*>,\n",
       " 2: <gurobi.Constr *Awaiting Model Update*>,\n",
       " 3: <gurobi.Constr *Awaiting Model Update*>}"
      ]
     },
     "execution_count": 13,
     "metadata": {},
     "output_type": "execute_result"
    }
   ],
   "source": [
    "m2.addConstrs((transport.sum('*',p) <= capacity[p] * open[p] for p in plants), \"Capacity\")\n",
    "m2.addConstrs((transport.sum(w, '*') >= demand[w] for w in warehouses), \"Demand\")"
   ]
  },
  {
   "cell_type": "markdown",
   "metadata": {},
   "source": [
    "### 找到固定成本最低的供给点，关闭"
   ]
  },
  {
   "cell_type": "code",
   "execution_count": 14,
   "metadata": {
    "collapsed": true
   },
   "outputs": [],
   "source": [
    "for p in plants:\n",
    "    open[p].start = 1.0"
   ]
  },
  {
   "cell_type": "code",
   "execution_count": 15,
   "metadata": {
    "collapsed": false
   },
   "outputs": [
    {
     "name": "stdout",
     "output_type": "stream",
     "text": [
      "关闭plant：0\n"
     ]
    }
   ],
   "source": [
    "maxFixed = min(fixedCosts)\n",
    "for p in plants:\n",
    "    if fixedCosts[p] == maxFixed:\n",
    "        open[p].start = 0.0\n",
    "        print '关闭plant：%s' % p\n",
    "        break"
   ]
  },
  {
   "cell_type": "markdown",
   "metadata": {},
   "source": [
    "### 模型求解"
   ]
  },
  {
   "cell_type": "code",
   "execution_count": 16,
   "metadata": {
    "collapsed": false
   },
   "outputs": [
    {
     "name": "stdout",
     "output_type": "stream",
     "text": [
      "Optimize a model with 9 rows, 25 columns and 45 nonzeros\n",
      "Variable types: 20 continuous, 5 integer (5 binary)\n",
      "Coefficient statistics:\n",
      "  Matrix range     [1e+00, 2e+01]\n",
      "  Objective range  [1e+03, 2e+04]\n",
      "  Bounds range     [1e+00, 1e+00]\n",
      "  RHS range        [1e+01, 2e+01]\n",
      "Presolve time: 0.00s\n",
      "Presolved: 9 rows, 25 columns, 45 nonzeros\n",
      "\n",
      "Loaded MIP start with objective 238400\n",
      "\n",
      "Variable types: 20 continuous, 5 integer (5 binary)\n",
      "\n",
      "Root relaxation: objective 1.998333e+05, 11 iterations, 0.00 seconds\n",
      "\n",
      "    Nodes    |    Current Node    |     Objective Bounds      |     Work\n",
      " Expl Unexpl |  Obj  Depth IntInf | Incumbent    BestBd   Gap | It/Node Time\n",
      "\n",
      "     0     0 199833.333    0    1 238400.000 199833.333  16.2%     -    0s\n",
      "H    0     0                    210500.00000 199833.333  5.07%     -    0s\n",
      "     0     0 210252.941    0    2 210500.000 210252.941  0.12%     -    0s\n",
      "\n",
      "Cutting planes:\n",
      "  Gomory: 1\n",
      "\n",
      "Explored 0 nodes (13 simplex iterations) in 0.06 seconds\n",
      "Thread count was 4 (of 4 available processors)\n",
      "\n",
      "Solution count 2: 210500 238400 \n",
      "Pool objective bound 210500\n",
      "\n",
      "Optimal solution found (tolerance 1.00e-04)\n",
      "Best objective 2.105000000000e+05, best bound 2.105000000000e+05, gap 0.0000%\n",
      "Wall time: 82 ms\n"
     ]
    }
   ],
   "source": [
    "try:\n",
    "    m2.write('facility_p2.lp')\n",
    "    %time m2.optimize()\n",
    "except GurobiError as e:\n",
    "    print('Error code' + str(e.errno) + ': ' + str(e))\n",
    "except AttributeError as e:\n",
    "    print('Encountered an attribute error: ' + str(e))"
   ]
  },
  {
   "cell_type": "markdown",
   "metadata": {},
   "source": [
    "### 结果展示"
   ]
  },
  {
   "cell_type": "code",
   "execution_count": 17,
   "metadata": {
    "collapsed": false
   },
   "outputs": [
    {
     "name": "stdout",
     "output_type": "stream",
     "text": [
      "总成本：210500\n"
     ]
    },
    {
     "data": {
      "text/html": [
       "<div>\n",
       "<table border=\"1\" class=\"dataframe\">\n",
       "  <thead>\n",
       "    <tr style=\"text-align: right;\">\n",
       "      <th></th>\n",
       "      <th>0</th>\n",
       "      <th>1</th>\n",
       "      <th>2</th>\n",
       "      <th>3</th>\n",
       "      <th>state</th>\n",
       "    </tr>\n",
       "  </thead>\n",
       "  <tbody>\n",
       "    <tr>\n",
       "      <th>0</th>\n",
       "      <td>0.0</td>\n",
       "      <td>0.0</td>\n",
       "      <td>14.0</td>\n",
       "      <td>6.0</td>\n",
       "      <td>Open</td>\n",
       "    </tr>\n",
       "    <tr>\n",
       "      <th>1</th>\n",
       "      <td>14.0</td>\n",
       "      <td>0.0</td>\n",
       "      <td>0.0</td>\n",
       "      <td>8.0</td>\n",
       "      <td>Open</td>\n",
       "    </tr>\n",
       "    <tr>\n",
       "      <th>2</th>\n",
       "      <td>0.0</td>\n",
       "      <td>0.0</td>\n",
       "      <td>0.0</td>\n",
       "      <td>0.0</td>\n",
       "      <td>Closed</td>\n",
       "    </tr>\n",
       "    <tr>\n",
       "      <th>3</th>\n",
       "      <td>1.0</td>\n",
       "      <td>18.0</td>\n",
       "      <td>0.0</td>\n",
       "      <td>0.0</td>\n",
       "      <td>Open</td>\n",
       "    </tr>\n",
       "    <tr>\n",
       "      <th>4</th>\n",
       "      <td>0.0</td>\n",
       "      <td>0.0</td>\n",
       "      <td>0.0</td>\n",
       "      <td>6.0</td>\n",
       "      <td>Open</td>\n",
       "    </tr>\n",
       "  </tbody>\n",
       "</table>\n",
       "</div>"
      ],
      "text/plain": [
       "      0     1     2    3   state\n",
       "0   0.0   0.0  14.0  6.0    Open\n",
       "1  14.0   0.0   0.0  8.0    Open\n",
       "2   0.0   0.0   0.0  0.0  Closed\n",
       "3   1.0  18.0   0.0  0.0    Open\n",
       "4   0.0   0.0   0.0  6.0    Open"
      ]
     },
     "execution_count": 17,
     "metadata": {},
     "output_type": "execute_result"
    }
   ],
   "source": [
    "print '总成本：%d' % m2.objVal\n",
    "result = []\n",
    "for p in plants:\n",
    "    line_temp = []\n",
    "    for w in warehouses:\n",
    "        line_temp.append(transport[w,p].x)\n",
    "    if(open[p].x > 0.5):\n",
    "        line_temp.append('Open')\n",
    "    else:\n",
    "        line_temp.append('Closed')\n",
    "    result.append(line_temp)\n",
    "df = pd.DataFrame(result, index=plants, columns=warehouses + ['state'])\n",
    "df"
   ]
  },
  {
   "cell_type": "markdown",
   "metadata": {},
   "source": [
    "# P3：随机选择一个供应点，强制并永久让其关闭，求解关闭之后的最优的调度方案\n",
    "* 强制关闭的一个供应点，需让其对应的open变量在model求解过程中时刻为0，设置方式为令其lb=ub=0即可，或添加新约束open<=0\n",
    "* 关闭供应点后，应检查剩余的总供给量是否大于或等于总需求量，否则会出现程序无解"
   ]
  },
  {
   "cell_type": "code",
   "execution_count": 18,
   "metadata": {
    "collapsed": true
   },
   "outputs": [],
   "source": [
    "m3 = Model(\"facility_p3\")\n",
    "m3.modelSense = GRB.MINIMIZE"
   ]
  },
  {
   "cell_type": "markdown",
   "metadata": {},
   "source": [
    "### 决策变量 & 模型约束"
   ]
  },
  {
   "cell_type": "code",
   "execution_count": 19,
   "metadata": {
    "collapsed": false
   },
   "outputs": [
    {
     "data": {
      "text/plain": [
       "{0: <gurobi.Constr *Awaiting Model Update*>,\n",
       " 1: <gurobi.Constr *Awaiting Model Update*>,\n",
       " 2: <gurobi.Constr *Awaiting Model Update*>,\n",
       " 3: <gurobi.Constr *Awaiting Model Update*>}"
      ]
     },
     "execution_count": 19,
     "metadata": {},
     "output_type": "execute_result"
    }
   ],
   "source": [
    "open = m3.addVars(plants, vtype=GRB.BINARY, obj=fixedCosts, name=\"open\")\n",
    "transport = m3.addVars(warehouses, plants, obj=transCosts, name=\"trans\")\n",
    "\n",
    "m3.addConstrs((transport.sum('*',p) <= capacity[p] * open[p] for p in plants), \"Capacity\")\n",
    "m3.addConstrs((transport.sum(w, '*') >= demand[w] for w in warehouses), \"Demand\")"
   ]
  },
  {
   "cell_type": "markdown",
   "metadata": {},
   "source": [
    "### 随机选择一个plant，永久关闭它"
   ]
  },
  {
   "cell_type": "code",
   "execution_count": 20,
   "metadata": {
    "collapsed": false
   },
   "outputs": [
    {
     "name": "stdout",
     "output_type": "stream",
     "text": [
      "关闭plant：0，总供给量：76，总需求量：67\n"
     ]
    }
   ],
   "source": [
    "total_supply = 0\n",
    "total_demand = sum(demand)\n",
    "while(True):\n",
    "    p = random.randint(0, len(plants) - 1)\n",
    "    total_supply = sum([capacity[i] for i in (set(plants) - {p})])\n",
    "    if(total_supply -  total_demand>= 0):\n",
    "        break\n",
    "print '关闭plant：%d，总供给量：%d，总需求量：%d' % (p, total_supply, total_demand)"
   ]
  },
  {
   "cell_type": "code",
   "execution_count": 21,
   "metadata": {
    "collapsed": false
   },
   "outputs": [
    {
     "data": {
      "text/plain": [
       "<gurobi.Constr *Awaiting Model Update*>"
      ]
     },
     "execution_count": 21,
     "metadata": {},
     "output_type": "execute_result"
    }
   ],
   "source": [
    "m3.addConstr(open[p] <= 0)"
   ]
  },
  {
   "cell_type": "markdown",
   "metadata": {},
   "source": [
    "### 模型求解"
   ]
  },
  {
   "cell_type": "code",
   "execution_count": 22,
   "metadata": {
    "collapsed": false
   },
   "outputs": [
    {
     "name": "stdout",
     "output_type": "stream",
     "text": [
      "Optimize a model with 10 rows, 25 columns and 46 nonzeros\n",
      "Variable types: 20 continuous, 5 integer (5 binary)\n",
      "Coefficient statistics:\n",
      "  Matrix range     [1e+00, 2e+01]\n",
      "  Objective range  [1e+03, 2e+04]\n",
      "  Bounds range     [1e+00, 1e+00]\n",
      "  RHS range        [1e+01, 2e+01]\n",
      "Presolve removed 2 rows and 5 columns\n",
      "Presolve time: 0.00s\n",
      "Presolved: 8 rows, 20 columns, 36 nonzeros\n",
      "Variable types: 16 continuous, 4 integer (4 binary)\n",
      "\n",
      "Root relaxation: objective 2.303000e+05, 15 iterations, 0.00 seconds\n",
      "\n",
      "    Nodes    |    Current Node    |     Objective Bounds      |     Work\n",
      " Expl Unexpl |  Obj  Depth IntInf | Incumbent    BestBd   Gap | It/Node Time\n",
      "\n",
      "     0     0 230300.000    0    1          - 230300.000      -     -    0s\n",
      "H    0     0                    238400.00000 230300.000  3.40%     -    0s\n",
      "     0     0 230400.000    0    1 238400.000 230400.000  3.36%     -    0s\n",
      "     0     0 230789.231    0    2 238400.000 230789.231  3.19%     -    0s\n",
      "     0     0 230850.000    0    1 238400.000 230850.000  3.17%     -    0s\n",
      "     0     0 231485.294    0    1 238400.000 231485.294  2.90%     -    0s\n",
      "     0     0 231485.294    0    1 238400.000 231485.294  2.90%     -    0s\n",
      "     0     0 231510.571    0    2 238400.000 231510.571  2.89%     -    0s\n",
      "     0     0     cutoff    0      238400.000 238400.000  0.00%     -    0s\n",
      "\n",
      "Cutting planes:\n",
      "  Gomory: 1\n",
      "  MIR: 1\n",
      "  Flow cover: 1\n",
      "\n",
      "Explored 0 nodes (25 simplex iterations) in 0.07 seconds\n",
      "Thread count was 4 (of 4 available processors)\n",
      "\n",
      "Solution count 1: 238400 \n",
      "Pool objective bound 238400\n",
      "\n",
      "Optimal solution found (tolerance 1.00e-04)\n",
      "Best objective 2.384000000000e+05, best bound 2.384000000000e+05, gap 0.0000%\n",
      "Wall time: 84 ms\n"
     ]
    }
   ],
   "source": [
    "try:\n",
    "    m3.write('facility_p3.lp')\n",
    "    %time m3.optimize()\n",
    "except GurobiError as e:\n",
    "    print('Error code' + str(e.errno) + ': ' + str(e))\n",
    "except AttributeError as e:\n",
    "    print('Encountered an attribute error: ' + str(e))"
   ]
  },
  {
   "cell_type": "markdown",
   "metadata": {},
   "source": [
    "### 结果展示"
   ]
  },
  {
   "cell_type": "code",
   "execution_count": 23,
   "metadata": {
    "collapsed": false
   },
   "outputs": [
    {
     "name": "stdout",
     "output_type": "stream",
     "text": [
      "总成本：238400\n"
     ]
    },
    {
     "data": {
      "text/html": [
       "<div>\n",
       "<table border=\"1\" class=\"dataframe\">\n",
       "  <thead>\n",
       "    <tr style=\"text-align: right;\">\n",
       "      <th></th>\n",
       "      <th>0</th>\n",
       "      <th>1</th>\n",
       "      <th>2</th>\n",
       "      <th>3</th>\n",
       "      <th>state</th>\n",
       "    </tr>\n",
       "  </thead>\n",
       "  <tbody>\n",
       "    <tr>\n",
       "      <th>0</th>\n",
       "      <td>0.0</td>\n",
       "      <td>0.0</td>\n",
       "      <td>0.0</td>\n",
       "      <td>0.0</td>\n",
       "      <td>Closed</td>\n",
       "    </tr>\n",
       "    <tr>\n",
       "      <th>1</th>\n",
       "      <td>14.0</td>\n",
       "      <td>0.0</td>\n",
       "      <td>8.0</td>\n",
       "      <td>0.0</td>\n",
       "      <td>Open</td>\n",
       "    </tr>\n",
       "    <tr>\n",
       "      <th>2</th>\n",
       "      <td>0.0</td>\n",
       "      <td>0.0</td>\n",
       "      <td>6.0</td>\n",
       "      <td>11.0</td>\n",
       "      <td>Open</td>\n",
       "    </tr>\n",
       "    <tr>\n",
       "      <th>3</th>\n",
       "      <td>1.0</td>\n",
       "      <td>18.0</td>\n",
       "      <td>0.0</td>\n",
       "      <td>0.0</td>\n",
       "      <td>Open</td>\n",
       "    </tr>\n",
       "    <tr>\n",
       "      <th>4</th>\n",
       "      <td>0.0</td>\n",
       "      <td>0.0</td>\n",
       "      <td>0.0</td>\n",
       "      <td>9.0</td>\n",
       "      <td>Open</td>\n",
       "    </tr>\n",
       "  </tbody>\n",
       "</table>\n",
       "</div>"
      ],
      "text/plain": [
       "      0     1    2     3   state\n",
       "0   0.0   0.0  0.0   0.0  Closed\n",
       "1  14.0   0.0  8.0   0.0    Open\n",
       "2   0.0   0.0  6.0  11.0    Open\n",
       "3   1.0  18.0  0.0   0.0    Open\n",
       "4   0.0   0.0  0.0   9.0    Open"
      ]
     },
     "execution_count": 23,
     "metadata": {},
     "output_type": "execute_result"
    }
   ],
   "source": [
    "print '总成本：%d' % m3.objVal\n",
    "result = []\n",
    "for p in plants:\n",
    "    line_temp = []\n",
    "    for w in warehouses:\n",
    "        line_temp.append(transport[w,p].x)\n",
    "    if(open[p].x > 0.5):\n",
    "        line_temp.append('Open')\n",
    "    else:\n",
    "        line_temp.append('Closed')\n",
    "    result.append(line_temp)\n",
    "df = pd.DataFrame(result, index=plants, columns=warehouses + ['state'])\n",
    "df"
   ]
  }
 ],
 "metadata": {
  "kernelspec": {
   "display_name": "Python 2",
   "language": "python",
   "name": "python2"
  },
  "language_info": {
   "codemirror_mode": {
    "name": "ipython",
    "version": 2
   },
   "file_extension": ".py",
   "mimetype": "text/x-python",
   "name": "python",
   "nbconvert_exporter": "python",
   "pygments_lexer": "ipython2",
   "version": "2.7.13"
  }
 },
 "nbformat": 4,
 "nbformat_minor": 2
}
